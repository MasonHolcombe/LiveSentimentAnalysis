{
 "cells": [
  {
   "cell_type": "code",
   "execution_count": 1,
   "metadata": {},
   "outputs": [],
   "source": [
    "# TO DO\n",
    "\n",
    "# DONE # 1. IMPORT ROBERTA MODEL\n",
    "# DONE # 2. GET ROBERTA MODEL WORKING ON TEXT\n",
    "# DONE # 3. GET GUI WORKING\n",
    "# DONE # 4. CONNECT MODEL TO GUI\n",
    "# DONE # 5. GET GUI WORKING WITH ROBERTA\n",
    "# 6. MAKE IT LOOK NICE ENOUGH\n",
    "# 7. POST TO GITHUB\n",
    "# 8. UPDATE RESUME"
   ]
  },
  {
   "cell_type": "code",
   "execution_count": 2,
   "metadata": {},
   "outputs": [],
   "source": [
    "import pandas as pd\n",
    "import numpy as np\n",
    "import matplotlib.pyplot as plt\n",
    "import nltk\n",
    "import re\n",
    "import tkinter as tk\n",
    "from tkinter.scrolledtext import ScrolledText\n",
    "from tkinter import StringVar"
   ]
  },
  {
   "cell_type": "code",
   "execution_count": 3,
   "metadata": {},
   "outputs": [
    {
     "name": "stderr",
     "output_type": "stream",
     "text": [
      "/Library/Frameworks/Python.framework/Versions/3.11/lib/python3.11/site-packages/tqdm/auto.py:21: TqdmWarning: IProgress not found. Please update jupyter and ipywidgets. See https://ipywidgets.readthedocs.io/en/stable/user_install.html\n",
      "  from .autonotebook import tqdm as notebook_tqdm\n"
     ]
    }
   ],
   "source": [
    "from transformers import AutoTokenizer\n",
    "from transformers import AutoModelForSequenceClassification\n",
    "from scipy.special import softmax"
   ]
  },
  {
   "cell_type": "code",
   "execution_count": 4,
   "metadata": {},
   "outputs": [],
   "source": [
    "MODEL = f'cardiffnlp/twitter-roberta-base-sentiment'\n",
    "tokenizer = AutoTokenizer.from_pretrained(MODEL)\n",
    "model = AutoModelForSequenceClassification.from_pretrained(MODEL)"
   ]
  },
  {
   "cell_type": "code",
   "execution_count": 5,
   "metadata": {},
   "outputs": [],
   "source": [
    "def polarity_scores(example):\n",
    "    encoded_text = tokenizer(example, return_tensors='pt')\n",
    "    output = model(**encoded_text)\n",
    "    scores = output[0][0].detach().numpy()\n",
    "    scores = softmax(scores)\n",
    "    scores_dict = {\n",
    "    'negative': scores[0],\n",
    "    'neutral': scores[1],\n",
    "    'positive': scores[2]\n",
    "    }\n",
    "    return scores_dict"
   ]
  },
  {
   "cell_type": "code",
   "execution_count": 19,
   "metadata": {},
   "outputs": [],
   "source": [
    "class LiveSentiment():\n",
    "    def __init__(self):\n",
    "        self.root = tk.Tk()\n",
    "        self.root.title('Live Sentiment')\n",
    "        self.root.geometry('600x500')\n",
    "        self.negative = 0\n",
    "        self.neutral = 0\n",
    "        self.positive = 0\n",
    "        self.scores = {}\n",
    "\n",
    "        self.v_neg = StringVar()\n",
    "        self.v_neu = StringVar()\n",
    "        self.v_pos = StringVar()\n",
    "\n",
    "        self.label_neg = tk.Label(self.root, textvariable = self.v_neg, font=('Arial', 20))\n",
    "        self.label_neu = tk.Label(self.root, textvariable = self.v_neu, font=('Arial', 20))\n",
    "        self.label_pos = tk.Label(self.root, textvariable = self.v_pos, font=('Arial', 20))\n",
    "\n",
    "        self.label_neg.pack()\n",
    "        self.label_neu.pack()\n",
    "        self.label_pos.pack()\n",
    "\n",
    "        self.text = ScrolledText(self.root, font=('Arial', 14))\n",
    "        self.text.bind('<KeyRelease>', self.check)\n",
    "        self.text.pack()\n",
    "\n",
    "        self.old_spaces = 0\n",
    "\n",
    "        self.root.mainloop()\n",
    "\n",
    "    # CHECK FUNCTION AT EACH SPACE\n",
    "    def check(self, event):\n",
    "        content = self.text.get('1.0', tk.END)\n",
    "        space_count = content.count(' ')\n",
    "        if space_count != self.old_spaces:\n",
    "            self.old_spaces = space_count\n",
    "            \n",
    "            # CALCULATE POLARITY AND UPDATE \n",
    "            self.scores = polarity_scores(content)\n",
    "            self.v_neg.set(f'Negative: {np.round(float(self.scores[\"negative\"]), 2)*100}%')\n",
    "            self.v_neu.set(f'Neutral: {np.round(float(self.scores[\"neutral\"]), 2)*100}%')\n",
    "            self.v_pos.set(f'Positive: {np.round(float(self.scores[\"positive\"]), 2)*100}%')\n",
    "\n"
   ]
  },
  {
   "cell_type": "code",
   "execution_count": 20,
   "metadata": {},
   "outputs": [
    {
     "ename": "AttributeError",
     "evalue": "'NoneType' object has no attribute 'pack'",
     "output_type": "error",
     "traceback": [
      "\u001b[0;31m---------------------------------------------------------------------------\u001b[0m",
      "\u001b[0;31mAttributeError\u001b[0m                            Traceback (most recent call last)",
      "Cell \u001b[0;32mIn[20], line 1\u001b[0m\n\u001b[0;32m----> 1\u001b[0m \u001b[43mLiveSentiment\u001b[49m\u001b[43m(\u001b[49m\u001b[43m)\u001b[49m\n",
      "Cell \u001b[0;32mIn[19], line 19\u001b[0m, in \u001b[0;36mLiveSentiment.__init__\u001b[0;34m(self)\u001b[0m\n\u001b[1;32m     16\u001b[0m \u001b[38;5;28mself\u001b[39m\u001b[38;5;241m.\u001b[39mlabel_neu \u001b[38;5;241m=\u001b[39m tk\u001b[38;5;241m.\u001b[39mLabel(\u001b[38;5;28mself\u001b[39m\u001b[38;5;241m.\u001b[39mroot, textvariable \u001b[38;5;241m=\u001b[39m \u001b[38;5;28mself\u001b[39m\u001b[38;5;241m.\u001b[39mv_neu, font\u001b[38;5;241m=\u001b[39m(\u001b[38;5;124m'\u001b[39m\u001b[38;5;124mArial\u001b[39m\u001b[38;5;124m'\u001b[39m, \u001b[38;5;241m20\u001b[39m))\n\u001b[1;32m     17\u001b[0m \u001b[38;5;28mself\u001b[39m\u001b[38;5;241m.\u001b[39mlabel_pos \u001b[38;5;241m=\u001b[39m tk\u001b[38;5;241m.\u001b[39mLabel(\u001b[38;5;28mself\u001b[39m\u001b[38;5;241m.\u001b[39mroot, textvariable \u001b[38;5;241m=\u001b[39m \u001b[38;5;28mself\u001b[39m\u001b[38;5;241m.\u001b[39mv_pos, font\u001b[38;5;241m=\u001b[39m(\u001b[38;5;124m'\u001b[39m\u001b[38;5;124mArial\u001b[39m\u001b[38;5;124m'\u001b[39m, \u001b[38;5;241m20\u001b[39m))\n\u001b[0;32m---> 19\u001b[0m \u001b[38;5;28;43mself\u001b[39;49m\u001b[38;5;241;43m.\u001b[39;49m\u001b[43mlabel_neg\u001b[49m\u001b[38;5;241;43m.\u001b[39;49m\u001b[43mpack\u001b[49m()\n\u001b[1;32m     20\u001b[0m \u001b[38;5;28mself\u001b[39m\u001b[38;5;241m.\u001b[39mlabel_neu\u001b[38;5;241m.\u001b[39mpack()\n\u001b[1;32m     21\u001b[0m \u001b[38;5;28mself\u001b[39m\u001b[38;5;241m.\u001b[39mlabel_pos\u001b[38;5;241m.\u001b[39mpack()\n",
      "\u001b[0;31mAttributeError\u001b[0m: 'NoneType' object has no attribute 'pack'"
     ]
    }
   ],
   "source": [
    "LiveSentiment()"
   ]
  },
  {
   "cell_type": "code",
   "execution_count": 8,
   "metadata": {},
   "outputs": [
    {
     "name": "stdout",
     "output_type": "stream",
     "text": [
      "0.12\n"
     ]
    }
   ],
   "source": [
    "test = 0.12312312\n",
    "print(np.round(test, 2))"
   ]
  },
  {
   "cell_type": "code",
   "execution_count": null,
   "metadata": {},
   "outputs": [],
   "source": []
  }
 ],
 "metadata": {
  "kernelspec": {
   "display_name": "Python 3",
   "language": "python",
   "name": "python3"
  },
  "language_info": {
   "codemirror_mode": {
    "name": "ipython",
    "version": 3
   },
   "file_extension": ".py",
   "mimetype": "text/x-python",
   "name": "python",
   "nbconvert_exporter": "python",
   "pygments_lexer": "ipython3",
   "version": "3.11.7"
  }
 },
 "nbformat": 4,
 "nbformat_minor": 2
}
