{
 "cells": [
  {
   "cell_type": "code",
   "execution_count": 1,
   "metadata": {},
   "outputs": [],
   "source": [
    "# TO DO\n",
    "\n",
    "# DONE # 1. IMPORT ROBERTA MODEL\n",
    "# DONE # 2. GET ROBERTA MODEL WORKING ON TEXT\n",
    "# DONE # 3. GET GUI WORKING\n",
    "# DONE # 4. CONNECT MODEL TO GUI\n",
    "# DONE # 5. GET GUI WORKING WITH ROBERTA\n",
    "# 6. MAKE IT LOOK NICE ENOUGH\n",
    "# 7. POST TO GITHUB\n",
    "# 8. UPDATE RESUME"
   ]
  },
  {
   "cell_type": "code",
   "execution_count": 2,
   "metadata": {},
   "outputs": [],
   "source": [
    "import pandas as pd\n",
    "import numpy as np\n",
    "import tkinter as tk\n",
    "from tkinter.scrolledtext import ScrolledText\n",
    "from tkinter import StringVar\n"
   ]
  },
  {
   "cell_type": "code",
   "execution_count": 3,
   "metadata": {},
   "outputs": [
    {
     "name": "stderr",
     "output_type": "stream",
     "text": [
      "/Library/Frameworks/Python.framework/Versions/3.11/lib/python3.11/site-packages/tqdm/auto.py:21: TqdmWarning: IProgress not found. Please update jupyter and ipywidgets. See https://ipywidgets.readthedocs.io/en/stable/user_install.html\n",
      "  from .autonotebook import tqdm as notebook_tqdm\n"
     ]
    }
   ],
   "source": [
    "from transformers import AutoTokenizer\n",
    "from transformers import AutoModelForSequenceClassification\n",
    "from scipy.special import softmax"
   ]
  },
  {
   "cell_type": "code",
   "execution_count": 4,
   "metadata": {},
   "outputs": [],
   "source": [
    "MODEL = f'cardiffnlp/twitter-roberta-base-sentiment'\n",
    "tokenizer = AutoTokenizer.from_pretrained(MODEL)\n",
    "model = AutoModelForSequenceClassification.from_pretrained(MODEL)"
   ]
  },
  {
   "cell_type": "code",
   "execution_count": 5,
   "metadata": {},
   "outputs": [],
   "source": [
    "def polarity_scores(example):\n",
    "    encoded_text = tokenizer(example, return_tensors='pt')\n",
    "    output = model(**encoded_text)\n",
    "    scores = output[0][0].detach().numpy()\n",
    "    scores = softmax(scores)\n",
    "    scores_dict = {\n",
    "    'Negative': scores[0],\n",
    "    'Neutral': scores[1],\n",
    "    'Positive': scores[2]\n",
    "    }\n",
    "    return scores_dict"
   ]
  },
  {
   "cell_type": "code",
   "execution_count": 11,
   "metadata": {},
   "outputs": [],
   "source": [
    "class LiveSentiment():\n",
    "    def __init__(self):\n",
    "        self.root = tk.Tk()\n",
    "        self.root.title('Live Sentiment')\n",
    "        self.root.geometry('500x500')\n",
    "        self.scores = None\n",
    "        self.sentiment = None\n",
    "\n",
    "        self.neg = StringVar()\n",
    "        self.neu = StringVar()\n",
    "        self.pos = StringVar()\n",
    "        self.sent = StringVar()\n",
    "\n",
    "        self.label_neg = tk.Label(self.root, textvariable = self.neg, font=('Arial', 20))\n",
    "        self.label_neu = tk.Label(self.root, textvariable = self.neu, font=('Arial', 20))\n",
    "        self.label_pos = tk.Label(self.root, textvariable = self.pos, font=('Arial', 20))\n",
    "        self.label_sent = tk.Label(self.root, textvariable = self.sent, font=('Arial', 20))\n",
    "\n",
    "        self.label_neg.pack()\n",
    "        self.label_neu.pack()\n",
    "        self.label_pos.pack()\n",
    "        self.label_sent.pack()\n",
    "\n",
    "        self.text = ScrolledText(self.root, font=('Arial', 14))\n",
    "        self.text.bind('<KeyRelease>', self.check)\n",
    "        self.text.pack()\n",
    "\n",
    "        self.old_spaces = 0\n",
    "\n",
    "        self.root.mainloop()\n",
    "\n",
    "    # CHECK FUNCTION AT EACH SPACE\n",
    "    def check(self, event):\n",
    "        content = self.text.get('1.0', tk.END)\n",
    "        space_count = content.count(' ')\n",
    "        if space_count != self.old_spaces:\n",
    "            self.old_spaces = space_count\n",
    "            \n",
    "            # CALCULATE POLARITY AND UPDATE \n",
    "            self.scores = polarity_scores(content)\n",
    "            self.neg.set(f'Negative: {np.round(float(self.scores[\"Negative\"]), 2)*100}%')\n",
    "            self.neu.set(f'Neutral: {np.round(float(self.scores[\"Neutral\"]), 2)*100}%')\n",
    "            self.pos.set(f'Positive: {np.round(float(self.scores[\"Positive\"]), 2)*100}%')\n",
    "\n",
    "            self.sent.set(f'Sentiment: {max(self.scores, key=self.scores.get)}')"
   ]
  },
  {
   "cell_type": "code",
   "execution_count": 12,
   "metadata": {},
   "outputs": [
    {
     "data": {
      "text/plain": [
       "<__main__.LiveSentiment at 0x153a8d210>"
      ]
     },
     "execution_count": 12,
     "metadata": {},
     "output_type": "execute_result"
    }
   ],
   "source": [
    "LiveSentiment()"
   ]
  },
  {
   "cell_type": "code",
   "execution_count": null,
   "metadata": {},
   "outputs": [],
   "source": []
  }
 ],
 "metadata": {
  "kernelspec": {
   "display_name": "Python 3",
   "language": "python",
   "name": "python3"
  },
  "language_info": {
   "codemirror_mode": {
    "name": "ipython",
    "version": 3
   },
   "file_extension": ".py",
   "mimetype": "text/x-python",
   "name": "python",
   "nbconvert_exporter": "python",
   "pygments_lexer": "ipython3",
   "version": "3.11.7"
  }
 },
 "nbformat": 4,
 "nbformat_minor": 2
}
